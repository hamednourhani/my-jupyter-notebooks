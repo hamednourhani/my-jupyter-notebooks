{
 "cells": [
  {
   "cell_type": "code",
   "execution_count": 1,
   "metadata": {},
   "outputs": [
    {
     "name": "stdout",
     "output_type": "stream",
     "text": [
      "Loading spark-stubs\n",
      "Getting spark JARs\n",
      "Creating SparkSession\n"
     ]
    },
    {
     "name": "stderr",
     "output_type": "stream",
     "text": [
      "Using Spark's default log4j profile: org/apache/spark/log4j-defaults.properties\n"
     ]
    },
    {
     "data": {
      "text/plain": [
       "\u001b[32mimport \u001b[39m\u001b[36m$ivy.$                                   // Or use any other 2.x version here\n",
       "\u001b[39m\n",
       "\u001b[32mimport \u001b[39m\u001b[36m$ivy.$                              \n",
       "\n",
       "\u001b[39m\n",
       "\u001b[32mimport \u001b[39m\u001b[36morg.apache.log4j.{Level, Logger}\n",
       "\n",
       "\u001b[39m\n",
       "\u001b[32mimport \u001b[39m\u001b[36morg.apache.spark._\n",
       "\u001b[39m\n",
       "\u001b[32mimport \u001b[39m\u001b[36morg.apache.spark.sql._\n",
       "\n",
       "\n",
       "\u001b[39m\n",
       "\u001b[36mspark\u001b[39m: \u001b[32mSparkSession\u001b[39m = org.apache.spark.sql.SparkSession@15020a34"
      ]
     },
     "execution_count": 1,
     "metadata": {},
     "output_type": "execute_result"
    }
   ],
   "source": [
    "import $ivy.`org.apache.spark::spark-sql:2.4.0` // Or use any other 2.x version here\n",
    "import $ivy.`sh.almond::almond-spark:0.5.0`\n",
    "\n",
    "import org.apache.log4j.{Level, Logger}\n",
    "\n",
    "import org.apache.spark._\n",
    "import org.apache.spark.sql._\n",
    "\n",
    "\n",
    "Logger.getLogger(\"org\").setLevel(Level.OFF)\n",
    "\n",
    "val spark = {\n",
    "    AmmoniteSparkSession.builder()\n",
    "      .master(\"local[*]\")\n",
    "      .getOrCreate()\n",
    "  }\n",
    "\n"
   ]
  },
  {
   "cell_type": "code",
   "execution_count": null,
   "metadata": {},
   "outputs": [],
   "source": []
  },
  {
   "cell_type": "code",
   "execution_count": 2,
   "metadata": {},
   "outputs": [
    {
     "data": {
      "text/plain": [
       "\u001b[32mimport \u001b[39m\u001b[36m$ivy.$                                 \n",
       "\n",
       "\u001b[39m\n",
       "\u001b[36mconf\u001b[39m: \u001b[32mRuntimeConfig\u001b[39m = org.apache.spark.sql.RuntimeConfig@286b9399\n",
       "\u001b[36mjdbcUrl\u001b[39m: \u001b[32mString\u001b[39m = \u001b[32m\"jdbc:postgresql://127.0.0.1:5432/flight\"\u001b[39m\n",
       "\u001b[36mjdbcUser\u001b[39m: \u001b[32mString\u001b[39m = \u001b[32m\"pgsql\"\u001b[39m\n",
       "\u001b[36mjdbcPassword\u001b[39m: \u001b[32mString\u001b[39m = \u001b[32m\"Astronomiex1235\"\u001b[39m\n",
       "\u001b[36mdriver\u001b[39m: \u001b[32mString\u001b[39m = \u001b[32m\"org.postgresql.Driver\"\u001b[39m\n",
       "\u001b[36mres1_6\u001b[39m: \u001b[32mClass\u001b[39m[\u001b[32m?0\u001b[39m] = class org.postgresql.Driver\n",
       "defined \u001b[32mobject\u001b[39m \u001b[36mutils\u001b[39m"
      ]
     },
     "execution_count": 2,
     "metadata": {},
     "output_type": "execute_result"
    }
   ],
   "source": [
    "import $ivy.`org.postgresql:postgresql:42.2.5`\n",
    "\n",
    "val conf: RuntimeConfig = spark.conf\n",
    "\n",
    "// Retrieve the JDBC configurations\n",
    "val jdbcUrl = \"jdbc:postgresql://127.0.0.1:5432/flight\"\n",
    "val jdbcUser = \"pgsql\"\n",
    "val jdbcPassword = \"Astronomiex1235\"\n",
    "\n",
    "// // Table to query\n",
    "\n",
    "\n",
    "// Tell spark which driver to use\n",
    "val driver = \"org.postgresql.Driver\"\n",
    "\n",
    "// Load the class\n",
    "Class.forName(driver)\n",
    "\n",
    "object utils{\n",
    "    \n",
    "def loadTable(tableName:String) = spark\n",
    "  .sqlContext\n",
    "  .read\n",
    "  .format(\"jdbc\")\n",
    "  .option(\"driver\", driver)\n",
    "  .option(\"url\", jdbcUrl)\n",
    "  .option(\"user\", jdbcUser)\n",
    "  .option(\"password\", jdbcPassword)\n",
    "  .option(\"dbtable\", tableName)\n",
    "  .load()\n",
    "}\n"
   ]
  },
  {
   "cell_type": "code",
   "execution_count": 3,
   "metadata": {},
   "outputs": [
    {
     "data": {
      "text/plain": [
       "\u001b[36mbookingRDD\u001b[39m: \u001b[32mDataFrame\u001b[39m = [id: bigint, booking_solution_id: bigint ... 25 more fields]\n",
       "\u001b[36mbookingSolutionRDD\u001b[39m: \u001b[32mDataFrame\u001b[39m = [id: bigint, solution_id: bigint ... 16 more fields]"
      ]
     },
     "execution_count": 3,
     "metadata": {},
     "output_type": "execute_result"
    }
   ],
   "source": [
    "val bookingRDD = utils.loadTable(\"booking_details\")\n",
    "val bookingSolutionRDD = utils.loadTable(\"booking_solution\")\n"
   ]
  },
  {
   "cell_type": "code",
   "execution_count": 5,
   "metadata": {},
   "outputs": [
    {
     "name": "stdout",
     "output_type": "stream",
     "text": [
      "+----+-------------------+---------------+----------+--------------------+-----------+--------+---------------+---------+------+------------+--------------+-------------+--------------------+------------+-------------------+------------------+--------------------+--------------------+--------------------+-----------+--------------------+--------------------+--------------------+------------+-----------------+--------+----+-----------+---------+-------+------+-----------+-------------------+-------------------+-------+----------+---------+------+------------+--------------------+--------------+--------------------+-----------+-----------------+\n",
      "|  id|booking_solution_id|book_request_id|invoice_id|               email|      phone| channel|passenger_count|an_number|   pnr|total_amount|total_discount|tracking_code|      transaction_id|compensation|compensation_status|    booking_status|         reserved_at|             paid_at|           issued_at|reversed_at|     passenger_names|  passenger_families|      ticket_serials|ticket_count|have_cancellation|  agency|  id|solution_id|flight_no|airline|origin|destination|     departure_date|       arrival_date|charter|is_inbound| supplier|dumped|is_roundtrip|       refund_policy|promotion_type|          created_at|description|cash_back_enabled|\n",
      "+----+-------------------+---------------+----------+--------------------+-----------+--------+---------------+---------+------+------------+--------------+-------------+--------------------+------------+-------------------+------------------+--------------------+--------------------+--------------------+-----------+--------------------+--------------------+--------------------+------------+-----------------+--------+----+-----------+---------+-------+------+-----------+-------------------+-------------------+-------+----------+---------+------+------------+--------------------+--------------+--------------------+-----------+-----------------+\n",
      "|  26|                 26|           9865|      7844|salehiali982@gmai...|09136814733|     web|              4|   330290|330290|   9178000.0|           0.0|     cwt61463|ae099c772bffa5843...|        null|               null|     issue-succeed|2018-10-27 20:32:...|2018-10-27 20:34:...|2018-10-27 20:34:...|       null|[Ali, علی, hadi, ...|[Salehi, صالحی, s...|[90264684NPXA , 9...|           4|            false|karmania|  26|     100646| 15621805|     B9|   THR|        KIH|2018-11-03 10:11:12|2018-11-03 10:11:12|  false|     false|faranegar| false|       false|{\"isValid\":false,...|          null|2018-10-27 20:32:...|       null|             null|\n",
      "|  29|                 29|           9868|      7847|mahdi.mangoli377@...|09103771004|      ap|              1|   330318| SHQRY|   3684000.0|           0.0|     edc21452|                null|        null|               null|          reserved|2018-10-27 21:22:...|                null|                null|       null|      [mahdi, مهدی ]|[mangoli, منگلی ن...|                  []|           0|            false|karmania|  29|     100666| 15026770|     EP|   AZD|        MHD|2018-10-29 10:11:12|2018-10-29 10:11:12|  false|     false|faranegar| false|       false|{\"isValid\":true,\"...|          null|2018-10-27 21:22:...|       null|             null|\n",
      "| 474|                474|          10313|      8122| shahintip@gmail.com|09363373782|     web|              1|   332418|332418|   1772000.0|           0.0|     mnz98273|477071317fe8e92ea...|        null|               null|     issue-succeed|2018-10-30 11:42:...|2018-10-30 11:43:...|2018-10-30 11:43:...|       null|     [shahin, شاهین]|    [janpak, جانپاک]|     [90265448FKMI ]|           1|            false|karmania| 474|     101916| 14972342|     B9|   THR|        SYZ|2018-10-31 10:11:12|2018-10-31 10:11:12|  false|     false|faranegar| false|       false|{\"isValid\":false,...|          null|2018-10-30 11:42:...|       null|             null|\n",
      "| 964|                964|          10803|      8473|mapna.flight@gmai...|09195076821|     web|              1|   335099| PPSN7|   3515000.0|           0.0|     tpj36323|e8050505dc647c9ed...|        null|               null|     issue-succeed|2018-11-03 11:43:...|2018-11-03 11:45:...|2018-11-03 11:46:...|       null|    [abouzar, ابوذر]|   [ghanbari, قنبری]|     [0002440935034]|           1|            false|karmania| 964|     103723| 15765477|     ZV|   THR|        AWZ|2018-11-03 10:11:12|2018-11-03 10:11:12|  false|     false|faranegar| false|       false|{\"isValid\":true,\"...|          null|2018-11-03 11:43:...|       null|             null|\n",
      "|1677|               1677|          11516|      8909|abd.masoud@yahoo.com|09121623092|     web|              3|   338329|338329|   8436000.0|           0.0|     hrw51712|4863a1c85985c54f1...|        null|               null|     issue-succeed|2018-11-06 16:38:...|2018-11-06 16:39:...|2018-11-06 16:39:...|       null|[masoud, مسعود, s...|[abedini, عابدینی...|[90267186TSUC , 9...|           3|            false|karmania|1677|     105634| 15520280|     Y9|   KIH|        THR|2018-11-12 10:11:12|2018-11-12 10:11:12|   true|     false|faranegar| false|       false|{\"isValid\":false,...|          null|2018-11-06 16:38:...|       null|             null|\n",
      "|1697|               1697|          11536|      null|mr.khedmatgozar@g...|09152513601|      ap|              1|   338381|      |   1060000.0|           0.0|     asm27315|                null|        null|               null|reservation-failed|2018-11-06 17:22:...|                null|                null|       null|    [mohammad, محمد]|[khedmatgozar gho...|                  []|           0|            false|karmania|1697|     105669| 15500095|     QB|   MHD|        THR|2018-11-06 10:11:12|2018-11-06 10:11:12|   true|     false|faranegar| false|       false|{\"isValid\":false,...|          null|2018-11-06 17:22:...|       null|             null|\n",
      "|1806|               1806|          11645|      null|golnzeslami@gmail...|09196453480|snappjek|              2|   339005|      |   5120000.0|      307200.0|     asx97367|                null|        null|               null|reservation-failed|2018-11-07 13:13:...|                null|                null|       null|[Golnaz, گل ناز ,...|[Eslami, اسلامی, ...|                  []|           0|            false|karmania|1806|     106094| 15749954|     NV|   THR|        AWZ|2018-11-07 10:11:12|2018-11-07 10:11:12|   true|     false|faranegar|  true|       false|{\"isValid\":false,...|          null|2018-11-07 13:13:...|       null|             null|\n",
      "|1950|               1950|          11789|      9079|Www.mehdi61ddr02@...|09305515606|      ap|              1|   339800| PQHC7|   1851000.0|           0.0|     qcm18134|    3068637100001847|        null|               null|     issue-succeed|2018-11-08 17:12:...|2018-11-08 17:14:...|2018-11-08 17:14:...|       null|       [Mahdi, مهدی]|  [Ghorbani, قربانی]|     [0002440961584]|           1|            false|karmania|1950|     106640| 15907860|     ZV|   THR|        SYZ|2018-11-10 10:11:12|2018-11-10 10:11:12|  false|     false|faranegar| false|       false|{\"isValid\":true,\"...|          null|2018-11-08 17:12:...|       null|             null|\n",
      "|2040|               2040|          11879|      9138|B_khajeh@razi.tum...|09159549108|      ap|              1|   340319| VK5BT|   3684000.0|           0.0|     myr45366|    3119365000001806|        null|               null|     issue-succeed|2018-11-09 15:01:...|2018-11-09 15:02:...|2018-11-09 15:02:...|       null|    [Behrouz, بهروز]|     [Khajeh, خواجه]|     [0962480596657]|           1|            false|karmania|2040|     106975| 15122006|     IR|   ZAH|        THR|2018-11-10 10:11:12|2018-11-10 10:11:12|  false|     false|faranegar| false|       false|{\"isValid\":true,\"...|          null|2018-11-09 15:01:...|       null|             null|\n",
      "|2214|               2214|          12053|      null| mirzaeeop@gmail.com|09177021126|snappjek|              1|   341004|933366|   2460000.0|      147600.0|     rjf34249|                null|        null|               null|reservation-failed|2018-11-10 13:51:...|                null|                null|       null|      [MOHSEN, محسن]|  [MIRZAEE, میرزایی]|                  []|           0|            false|karmania|2214|     107444| 15485823|     Y9|   THR|        SYZ|2018-11-10 10:11:12|2018-11-10 10:11:12|   true|     false|faranegar|  true|       false|{\"isValid\":false,...|          null|2018-11-10 13:51:...|       null|             null|\n"
     ]
    },
    {
     "name": "stdout",
     "output_type": "stream",
     "text": [
      "|2250|               2250|          12089|      9276|alihosseinvarnase...|09161810003|snappjek|              1|   341169| PQPPW|   1967000.0|       59010.0|     ykz35749|61d2320c36a9570ec...|        null|               null|     issue-succeed|2018-11-10 15:38:...|2018-11-10 15:40:...|2018-11-10 15:41:...|       null|[Alihossein, علی ...|[Varnaseri, ورناصری]|     [0002440967189]|           1|            false|karmania|2250|     107511| 15892643|     ZV|   AWZ|        THR|2018-11-12 10:11:12|2018-11-12 10:11:12|  false|     false|faranegar|  true|       false|{\"isValid\":true,\"...|          null|2018-11-10 15:38:...|       null|             null|\n",
      "|2453|               2453|          12292|      9425|ms.khatibi69@gmai...|09334437341|     web|              1|   342093|342093|   2640000.0|           0.0|     qmp42598|                null|        null|               null|          reserved|2018-11-11 15:13:...|                null|                null|       null|     [khatibi, محمد]|      [sajad, خطیبی]|                  []|           0|            false|karmania|2453|     108050| 15511757|     W5|   MHD|        THR|2018-11-18 10:11:12|2018-11-18 10:11:12|  false|     false|faranegar| false|       false|{\"isValid\":true,\"...|          null|2018-11-11 15:13:...|       null|             null|\n",
      "|2510|               2509|          12348|      9461|Seyedalifathi@gma...|09131184563|     web|              1|   342330| VXHLJ|   2836000.0|           0.0|     kbz75864|cddf1bddf5a2793c8...|        null|               null|          reserved|2018-11-11 19:09:...|                null|                null|       null|       [Mehdi, مهدي]|       [Chini, چيني]|                  []|           0|            false|karmania|2509|     108200| 15134235|     IR|   IFN|        AWZ|2018-12-11 10:11:12|2018-12-11 10:11:12|  false|     false|faranegar| false|        true|{\"isValid\":true,\"...|          null|2018-11-11 19:09:...|       null|             null|\n",
      "|2529|               2529|          12368|      null| redmikhak@yahoo.com|09162035284|     web|              2|        0|  null|   4120000.0|           0.0|     yca14432|                null|        null|               null|reservation-failed|2018-11-11 20:24:...|                null|                null|       null|[Morteza, مرتضی, ...|[Eliasi, الیاسی, ...|                  []|           0|            false|karmania|2529|     108246| 15971942|     HH|   IFN|        MHD|2018-11-12 10:11:12|2018-11-12 10:11:12|   true|     false|faranegar| false|       false|{\"isValid\":false,...|          null|2018-11-11 20:24:...|       null|             null|\n",
      "|2927|               2927|          12766|      null|farzanehrahmdell@...|09152215854|snappjek|              2|   344000|      |    920000.0|       55200.0|     maw11783|                null|        null|               null|reservation-failed|2018-11-13 20:55:...|                null|                null|       null|                  []|                  []|                  []|           0|            false|karmania|2927|     109321| 15592904|     Y9|   KIH|        MHD|2018-11-14 10:11:12|2018-11-14 10:11:12|   true|     false|faranegar|  true|       false|{\"isValid\":false,...|          null|2018-11-13 20:55:...|       null|             null|\n",
      "|3091|               3091|          12930|      9851|Mh.akhoondan@gmai...|09122157579|     web|              2|   344650| PRBJQ|   4212000.0|           0.0|     ktc19265|aea1e2f7b97495e33...|        null|               null|          reserved|2018-11-14 19:11:...|                null|                null|       null|                  []|                  []|                  []|           0|            false|karmania|3091|     109831| 16050453|     ZV|   THR|        KIH|2018-11-18 10:11:12|2018-11-18 10:11:12|  false|     false|faranegar| false|        true|{\"isValid\":true,\"...|          null|2018-11-14 19:11:...|       null|             null|\n",
      "|3506|               3506|          13345|      null|Nadalistone@yahoo...|09193549072|     web|              4|   346410|      |   7439996.0|           0.0|     gze14313|                null|        null|               null|reservation-failed|2018-11-17 16:16:...|                null|                null|       null|                  []|                  []|                  []|           0|            false|karmania|3506|     111079| 15287840|     QB|   THR|        GSM|2018-11-18 10:11:12|2018-11-18 10:11:12|   true|     false|faranegar| false|       false|{\"isValid\":false,...|          null|2018-11-17 16:16:...|       null|             null|\n",
      "|3764|               3764|          13603|     10350|    H.khani@ptrdc.ir|09103995393|     web|              2|   347649|347649|   5796000.0|           0.0|     apj37888|5ef3c2a1b1b5305c7...|        null|               null|     issue-succeed|2018-11-19 08:46:...|2018-11-19 08:48:...|2018-11-19 08:49:...|       null|                  []|                  []|                  []|           0|            false|karmania|3764|     111886| 15428975|     W5|   THR|        BND|2018-11-26 10:11:12|2018-11-26 10:11:12|  false|     false|faranegar| false|       false|{\"isValid\":true,\"...|          null|2018-11-19 08:46:...|      MAHAN|             null|\n",
      "|4590|               4590|          14429|     10948|Amir_Derakhshan@h...|09122982142|     web|              1|   351720|942151|   2160000.0|           0.0|     fwn45124|                null|        null|               null|          reserved|2018-11-24 14:43:...|                null|                null|       null|                  []|                  []|                  []|           0|            false|karmania|4590|     114333| 16199693|     VR|   THR|        GSM|2018-11-27 10:11:12|2018-11-27 10:11:12|   true|     false|faranegar| false|       false|{\"isValid\":false,...|          null|2018-11-24 14:43:...|       3912|             null|\n",
      "|4823|               4823|          14662|      null|Rezahajizadeh9940...|09166058507|      ap|              1|   352823|      |   3154000.0|       94620.0|     mej25679|                null|        null|               null|reservation-failed|2018-11-26 10:55:...|                null|                null|       null|                  []|                  []|                  []|           0|            false|karmania|4823|     115167| 15032438|     EP|   AWZ|        THR|2018-11-26 10:11:12|2018-11-26 10:11:12|  false|     false|faranegar|  true|       false|{\"isValid\":true,\"...|          null|2018-11-26 10:55:...|    Gabriel|             null|\n",
      "+----+-------------------+---------------+----------+--------------------+-----------+--------+---------------+---------+------+------------+--------------+-------------+--------------------+------------+-------------------+------------------+--------------------+--------------------+--------------------+-----------+--------------------+--------------------+--------------------+------------+-----------------+--------+----+-----------+---------+-------+------+-----------+-------------------+-------------------+-------+----------+---------+------+------------+--------------------+--------------+--------------------+-----------+-----------------+\n",
      "only showing top 20 rows\n",
      "\n"
     ]
    }
   ],
   "source": [
    "\n",
    "val j = bookingRDD.join(bookingSolutionRDD).where(bookingRDD(\"booking_solution_id\") === bookingSolutionRDD(\"id\"))\n",
    "\n",
    "j.select(j(\"airline\"),j(\"booking_so\")"
   ]
  }
 ],
 "metadata": {
  "kernelspec": {
   "display_name": "Scala",
   "language": "scala",
   "name": "scala"
  },
  "language_info": {
   "codemirror_mode": "text/x-scala",
   "file_extension": ".scala",
   "mimetype": "text/x-scala",
   "name": "scala",
   "nbconvert_exporter": "script",
   "version": "2.12.8"
  }
 },
 "nbformat": 4,
 "nbformat_minor": 2
}
