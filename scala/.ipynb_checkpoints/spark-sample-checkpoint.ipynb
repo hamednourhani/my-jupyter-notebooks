{
 "cells": [
  {
   "cell_type": "code",
   "execution_count": 1,
   "metadata": {},
   "outputs": [
    {
     "name": "stdout",
     "output_type": "stream",
     "text": [
      "Loading spark-stubs\n",
      "Getting spark JARs\n",
      "Creating SparkSession\n"
     ]
    },
    {
     "name": "stderr",
     "output_type": "stream",
     "text": [
      "Using Spark's default log4j profile: org/apache/spark/log4j-defaults.properties\n"
     ]
    },
    {
     "data": {
      "text/plain": [
       "\u001b[32mimport \u001b[39m\u001b[36m$ivy.$                                   // Or use any other 2.x version here\n",
       "\u001b[39m\n",
       "\u001b[32mimport \u001b[39m\u001b[36m$ivy.$                              \n",
       "\n",
       "\u001b[39m\n",
       "\u001b[32mimport \u001b[39m\u001b[36morg.apache.log4j.{Level, Logger}\n",
       "\n",
       "\u001b[39m\n",
       "\u001b[32mimport \u001b[39m\u001b[36morg.apache.spark._\n",
       "\u001b[39m\n",
       "\u001b[32mimport \u001b[39m\u001b[36morg.apache.spark.sql._\n",
       "\n",
       "\n",
       "\u001b[39m\n",
       "\u001b[36mspark\u001b[39m: \u001b[32mSparkSession\u001b[39m = org.apache.spark.sql.SparkSession@532d1dd0"
      ]
     },
     "execution_count": 1,
     "metadata": {},
     "output_type": "execute_result"
    }
   ],
   "source": [
    "import $ivy.`org.apache.spark::spark-sql:2.4.0` // Or use any other 2.x version here\n",
    "import $ivy.`sh.almond::almond-spark:0.5.0`\n",
    "\n",
    "import org.apache.log4j.{Level, Logger}\n",
    "\n",
    "import org.apache.spark._\n",
    "import org.apache.spark.sql._\n",
    "\n",
    "\n",
    "Logger.getLogger(\"org\").setLevel(Level.OFF)\n",
    "\n",
    "val spark = {\n",
    "    AmmoniteSparkSession.builder()\n",
    "      .master(\"local[*]\")\n",
    "      .getOrCreate()\n",
    "  }\n",
    "\n"
   ]
  },
  {
   "cell_type": "code",
   "execution_count": 9,
   "metadata": {},
   "outputs": [
    {
     "data": {
      "text/plain": [
       "\u001b[32mimport \u001b[39m\u001b[36m$ivy.$                                 \n",
       "\n",
       "\u001b[39m\n",
       "\u001b[36mconf\u001b[39m: \u001b[32mRuntimeConfig\u001b[39m = org.apache.spark.sql.RuntimeConfig@45270c65\n",
       "\u001b[36mjdbcUrl\u001b[39m: \u001b[32mString\u001b[39m = \u001b[32m\"jdbc:postgresql://127.0.0.1:5432/flight\"\u001b[39m\n",
       "\u001b[36mjdbcUser\u001b[39m: \u001b[32mString\u001b[39m = \u001b[32m\"pgsql\"\u001b[39m\n",
       "\u001b[36mjdbcPassword\u001b[39m: \u001b[32mString\u001b[39m = \u001b[32m\"Astronomiex1235\"\u001b[39m\n",
       "\u001b[36mtableName\u001b[39m: \u001b[32mString\u001b[39m = \u001b[32m\"booking_details\"\u001b[39m\n",
       "\u001b[36mdriver\u001b[39m: \u001b[32mString\u001b[39m = \u001b[32m\"org.postgresql.Driver\"\u001b[39m\n",
       "\u001b[36mres8_7\u001b[39m: \u001b[32mClass\u001b[39m[\u001b[32m?0\u001b[39m] = class org.postgresql.Driver\n",
       "\u001b[36mdf\u001b[39m: \u001b[32mDataFrame\u001b[39m = [id: bigint, booking_solution_id: bigint ... 25 more fields]"
      ]
     },
     "execution_count": 9,
     "metadata": {},
     "output_type": "execute_result"
    }
   ],
   "source": [
    "import $ivy.`org.postgresql:postgresql:42.2.5`\n",
    "\n",
    "val conf: RuntimeConfig = spark.conf\n",
    "\n",
    "// Retrieve the JDBC configurations\n",
    "val jdbcUrl = \"jdbc:postgresql://127.0.0.1:5432/flight\"\n",
    "val jdbcUser = \"pgsql\"\n",
    "val jdbcPassword = \"Astronomiex1235\"\n",
    "\n",
    "// // Table to query\n",
    "\n",
    "\n",
    "// Tell spark which driver to use\n",
    "val driver = \"org.postgresql.Driver\"\n",
    "\n",
    "// Load the class\n",
    "Class.forName(driver)\n",
    "\n",
    "def loadTable(tableName) = spark\n",
    "  .sqlContext\n",
    "  .read\n",
    "  .format(\"jdbc\")\n",
    "  .option(\"driver\", driver)\n",
    "  .option(\"url\", jdbcUrl)\n",
    "  .option(\"user\", jdbcUser)\n",
    "  .option(\"password\", jdbcPassword)\n",
    "  .option(\"dbtable\", tableName)\n",
    "  .load()\n"
   ]
  },
  {
   "cell_type": "code",
   "execution_count": 10,
   "metadata": {},
   "outputs": [
    {
     "data": {
      "text/plain": [
       "\u001b[36mres9\u001b[39m: \u001b[32mLong\u001b[39m = \u001b[32m9356L\u001b[39m"
      ]
     },
     "execution_count": 10,
     "metadata": {},
     "output_type": "execute_result"
    }
   ],
   "source": [
    "df.count()"
   ]
  },
  {
   "cell_type": "code",
   "execution_count": 13,
   "metadata": {},
   "outputs": [
    {
     "name": "stdout",
     "output_type": "stream",
     "text": [
      "+-------------------+-------------+\n",
      "|booking_solution_id|tracking_code|\n",
      "+-------------------+-------------+\n",
      "|               8584|     cpq72769|\n",
      "|               8582|     hch76989|\n",
      "|               8588|     mqd58644|\n",
      "|               9276|     qrc97636|\n",
      "|               9277|     trk33624|\n",
      "|               9278|     nhy47575|\n",
      "|               9287|     gfp86284|\n",
      "|               9280|     erw99484|\n",
      "|               9281|     wjb89564|\n",
      "|               9290|     xtj33676|\n",
      "|               9288|     mma92454|\n",
      "|               9296|     pns42357|\n",
      "|               9305|     mcq98241|\n",
      "|               9304|     rss58718|\n",
      "|               9313|     rjq91987|\n",
      "|               9316|     abn56952|\n",
      "|               9274|     xww41956|\n",
      "|               9275|     exj91435|\n",
      "|               8549|     kpp62668|\n",
      "|               8946|     pke33917|\n",
      "+-------------------+-------------+\n",
      "only showing top 20 rows\n",
      "\n"
     ]
    }
   ],
   "source": [
    "df.select(df(\"booking_solution_id\"), df(\"tracking_code\")).show()"
   ]
  }
 ],
 "metadata": {
  "kernelspec": {
   "display_name": "Scala",
   "language": "scala",
   "name": "scala"
  },
  "language_info": {
   "codemirror_mode": "text/x-scala",
   "file_extension": ".scala",
   "mimetype": "text/x-scala",
   "name": "scala",
   "nbconvert_exporter": "script",
   "version": "2.12.8"
  }
 },
 "nbformat": 4,
 "nbformat_minor": 2
}
