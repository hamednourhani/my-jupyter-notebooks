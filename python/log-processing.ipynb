{
 "cells": [
  {
   "cell_type": "code",
   "execution_count": 1,
   "metadata": {},
   "outputs": [
    {
     "name": "stdout",
     "output_type": "stream",
     "text": [
      "[u'America/New_York', u'America/Denver', u'America/New_York', u'America/Sao_Paulo', u'America/New_York', u'America/New_York', u'Europe/Warsaw', u'', u'', u'']\n"
     ]
    }
   ],
   "source": [
    "import json\n",
    "\n",
    "path = \"json-logs.txt\"\n",
    "\n",
    "logs = [json.loads(line) for line in open(path)]\n",
    "\n",
    "timezones = [l['tz'] for l in logs if 'tz' in l]\n",
    "\n",
    "print timezones[:10]"
   ]
  },
  {
   "cell_type": "code",
   "execution_count": 2,
   "metadata": {},
   "outputs": [],
   "source": [
    "from collections import defaultdict\n",
    "\n",
    "def get_counts(seq):\n",
    "    counter = defaultdict(int)\n",
    "    for x in seq :\n",
    "        counter[x] += 1\n",
    "    return counter\n",
    "\n",
    "counts = get_counts(timezones)"
   ]
  },
  {
   "cell_type": "code",
   "execution_count": 3,
   "metadata": {},
   "outputs": [
    {
     "data": {
      "text/plain": [
       "1251"
      ]
     },
     "execution_count": 3,
     "metadata": {},
     "output_type": "execute_result"
    }
   ],
   "source": [
    "counts['America/New_York']"
   ]
  },
  {
   "cell_type": "code",
   "execution_count": 4,
   "metadata": {},
   "outputs": [
    {
     "data": {
      "text/plain": [
       "[(u'Europe/Sofia', 1),\n",
       " (u'Europe/Stockholm', 14),\n",
       " (u'Europe/Uzhgorod', 1),\n",
       " (u'Europe/Vienna', 6),\n",
       " (u'Europe/Vilnius', 2),\n",
       " (u'Europe/Volgograd', 1),\n",
       " (u'Europe/Warsaw', 16),\n",
       " (u'Europe/Zurich', 4),\n",
       " (u'Pacific/Auckland', 11),\n",
       " (u'Pacific/Honolulu', 36)]"
      ]
     },
     "execution_count": 4,
     "metadata": {},
     "output_type": "execute_result"
    }
   ],
   "source": [
    "def top_counts(counts,n=10):\n",
    "    value_key_pairs = [(key,value) for key,value in counts.items()]\n",
    "    value_key_pairs.sort()\n",
    "    return value_key_pairs[-n:]\n",
    "\n",
    "top_counts(counts)"
   ]
  },
  {
   "cell_type": "code",
   "execution_count": 5,
   "metadata": {},
   "outputs": [
    {
     "data": {
      "text/plain": [
       "[(u'America/New_York', 1251),\n",
       " (u'', 521),\n",
       " (u'America/Chicago', 400),\n",
       " (u'America/Los_Angeles', 382),\n",
       " (u'America/Denver', 191),\n",
       " (u'Europe/London', 74),\n",
       " (u'Asia/Tokyo', 37),\n",
       " (u'Pacific/Honolulu', 36),\n",
       " (u'Europe/Madrid', 35),\n",
       " (u'America/Sao_Paulo', 33)]"
      ]
     },
     "execution_count": 5,
     "metadata": {},
     "output_type": "execute_result"
    }
   ],
   "source": [
    "from collections import Counter\n",
    "\n",
    "counter = Counter(timezones)\n",
    "\n",
    "counter.most_common(10)"
   ]
  },
  {
   "cell_type": "code",
   "execution_count": 7,
   "metadata": {},
   "outputs": [
    {
     "data": {
      "text/plain": [
       "<matplotlib.axes._subplots.AxesSubplot at 0x7fa7901dcd50>"
      ]
     },
     "execution_count": 7,
     "metadata": {},
     "output_type": "execute_result"
    },
    {
     "data": {
      "image/png": "[encoded data removed]",
      "text/plain": [
       "<Figure size 432x288 with 1 Axes>"
      ]
     },
     "metadata": {
      "needs_background": "light"
     },
     "output_type": "display_data"
    }
   ],
   "source": [
    "from pandas import DataFrame,Series\n",
    "\n",
    "import pandas as pd\n",
    "\n",
    "frame = DataFrame(logs)\n",
    "\n",
    "frame['tz'][-10:]\n",
    "\n",
    "tz_count = frame['tz'].fillna('Missing').value_counts()\n",
    "\n",
    "tz_count[:10]\n",
    "\n",
    "tz_count[:10].plot(kind = 'barh', rot = 0)\n"
   ]
  }
 ],
 "metadata": {
  "kernelspec": {
   "display_name": "Python 3",
   "language": "python",
   "name": "python3"
  },
  "language_info": {
   "codemirror_mode": {
    "name": "ipython",
    "version": 2
   },
   "file_extension": ".py",
   "mimetype": "text/x-python",
   "name": "python",
   "nbconvert_exporter": "python",
   "pygments_lexer": "ipython2",
   "version": "2.7.12"
  }
 },
 "nbformat": 4,
 "nbformat_minor": 2
}
